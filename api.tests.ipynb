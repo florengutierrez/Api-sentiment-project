{
 "cells": [
  {
   "cell_type": "code",
   "execution_count": 39,
   "id": "amended-saudi",
   "metadata": {},
   "outputs": [],
   "source": [
    "from helpers.mongoConnection import insert, read\n",
    "import requests"
   ]
  },
  {
   "cell_type": "code",
   "execution_count": 41,
   "id": "crazy-tribune",
   "metadata": {},
   "outputs": [
    {
     "data": {
      "text/plain": [
       "'Welcome to Yodapi'"
      ]
     },
     "execution_count": 41,
     "metadata": {},
     "output_type": "execute_result"
    }
   ],
   "source": [
    "res = requests.get(\"http://127.0.0.1:5000/\")\n",
    "res.text"
   ]
  },
  {
   "cell_type": "code",
   "execution_count": 42,
   "id": "legislative-ridge",
   "metadata": {},
   "outputs": [
    {
     "data": {
      "text/plain": [
       "'Fear is the path to the dark side. Fear leads to anger. Anger leads to hate. Hate leads to suffering.'"
      ]
     },
     "execution_count": 42,
     "metadata": {},
     "output_type": "execute_result"
    }
   ],
   "source": [
    "res = requests.get(\"http://127.0.0.1:5000/salute\")\n",
    "res.text"
   ]
  },
  {
   "cell_type": "code",
   "execution_count": 44,
   "id": "registered-steps",
   "metadata": {},
   "outputs": [
    {
     "data": {
      "text/plain": [
       "[{'character': 'YODA',\n",
       "  'text': 'The very Republic is threatened, if involved the Sith are.'},\n",
       " {'character': 'YODA',\n",
       "  'text': 'Hard to see, the dark side is. Discover who this assassin is, we must.'}]"
      ]
     },
     "execution_count": 44,
     "metadata": {},
     "output_type": "execute_result"
    }
   ],
   "source": [
    "res = requests.get(\"http://127.0.0.1:5000/yoda\")\n",
    "res.json()[:2]"
   ]
  }
 ],
 "metadata": {
  "kernelspec": {
   "display_name": "Python 3",
   "language": "python",
   "name": "python3"
  },
  "language_info": {
   "codemirror_mode": {
    "name": "ipython",
    "version": 3
   },
   "file_extension": ".py",
   "mimetype": "text/x-python",
   "name": "python",
   "nbconvert_exporter": "python",
   "pygments_lexer": "ipython3",
   "version": "3.8.5"
  }
 },
 "nbformat": 4,
 "nbformat_minor": 5
}
