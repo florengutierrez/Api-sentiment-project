{
 "cells": [
  {
   "cell_type": "code",
   "execution_count": 43,
   "id": "amended-saudi",
   "metadata": {},
   "outputs": [],
   "source": [
    "from helpers.mongoConnection import insert, read\n",
    "import requests"
   ]
  },
  {
   "cell_type": "markdown",
   "id": "intended-aurora",
   "metadata": {},
   "source": [
    "#### APY.PY"
   ]
  },
  {
   "cell_type": "code",
   "execution_count": 73,
   "id": "crazy-tribune",
   "metadata": {},
   "outputs": [
    {
     "data": {
      "text/plain": [
       "'Welcome to Yodapi'"
      ]
     },
     "execution_count": 73,
     "metadata": {},
     "output_type": "execute_result"
    }
   ],
   "source": [
    "res = requests.get(\"http://127.0.0.1:5000/\")\n",
    "res.text"
   ]
  },
  {
   "cell_type": "markdown",
   "id": "copyrighted-lying",
   "metadata": {},
   "source": [
    "THE CONNECTION IS OK"
   ]
  },
  {
   "cell_type": "markdown",
   "id": "beneficial-special",
   "metadata": {},
   "source": [
    "-------------------"
   ]
  },
  {
   "cell_type": "code",
   "execution_count": 74,
   "id": "legislative-ridge",
   "metadata": {},
   "outputs": [
    {
     "data": {
      "text/plain": [
       "'Fear is the path to the dark side. Fear leads to anger. Anger leads to hate. Hate leads to suffering.'"
      ]
     },
     "execution_count": 74,
     "metadata": {},
     "output_type": "execute_result"
    }
   ],
   "source": [
    "res = requests.get(\"http://127.0.0.1:5000/salute\")\n",
    "res.text"
   ]
  },
  {
   "cell_type": "markdown",
   "id": "announced-riverside",
   "metadata": {},
   "source": [
    "Añadimos saludo, frase mítica Yoda"
   ]
  },
  {
   "cell_type": "markdown",
   "id": "sixth-minister",
   "metadata": {},
   "source": [
    "----------------"
   ]
  },
  {
   "cell_type": "code",
   "execution_count": 86,
   "id": "registered-steps",
   "metadata": {},
   "outputs": [
    {
     "data": {
      "text/plain": [
       "[{'character': 'YODA',\n",
       "  'text': 'The very Republic is threatened, if involved the Sith are.'},\n",
       " {'character': 'YODA',\n",
       "  'text': 'Hard to see, the dark side is. Discover who this assassin is, we must.'},\n",
       " {'character': 'YODA',\n",
       "  'text': 'With this Naboo queen you must stay, Qui-Gon. Protect her.'},\n",
       " {'character': 'YODA', 'text': 'May the Force be with you.'},\n",
       " {'character': 'YODA',\n",
       "  'text': \"(Cont'd) Master Qui-Gon more to say have you?\"},\n",
       " {'character': 'YODA', 'text': 'A vergence, you say?'},\n",
       " {'character': 'YODA', 'text': 'But you do! Rrevealed your opinion is.'},\n",
       " {'character': 'YODA', 'text': 'Trained as a Jedi, you request for him?'},\n",
       " {'character': 'YODA', 'text': 'Tested he will be.'},\n",
       " {'character': 'YODA', 'text': 'Good, good, young one. How feel you?'}]"
      ]
     },
     "execution_count": 86,
     "metadata": {},
     "output_type": "execute_result"
    }
   ],
   "source": [
    "res = requests.get(\"http://127.0.0.1:5000/yoda\")\n",
    "res.json()[:10]"
   ]
  },
  {
   "cell_type": "markdown",
   "id": "virtual-perfume",
   "metadata": {},
   "source": [
    "Sacadas frases dichas por Yoda en las películas de nuestro data."
   ]
  },
  {
   "cell_type": "markdown",
   "id": "animated-bible",
   "metadata": {},
   "source": [
    "--------------"
   ]
  },
  {
   "cell_type": "code",
   "execution_count": null,
   "id": "generous-conjunction",
   "metadata": {},
   "outputs": [],
   "source": []
  },
  {
   "cell_type": "markdown",
   "id": "partial-drain",
   "metadata": {},
   "source": [
    "-------------------"
   ]
  },
  {
   "cell_type": "code",
   "execution_count": 81,
   "id": "incoming-league",
   "metadata": {},
   "outputs": [],
   "source": [
    "text = {\n",
    "    \"movie\":\"1\",\n",
    "    \"character\":\"MACE WINDU\",\n",
    "    \"text\": \"A Sith Lord?!?\"\n",
    "}"
   ]
  },
  {
   "cell_type": "code",
   "execution_count": 82,
   "id": "progressive-transmission",
   "metadata": {},
   "outputs": [
    {
     "data": {
      "text/plain": [
       "<Response [500]>"
      ]
     },
     "execution_count": 82,
     "metadata": {},
     "output_type": "execute_result"
    }
   ],
   "source": [
    "res = requests.get(\"http://127.0.0.1:5000/text-delete\", params = text)\n",
    "res"
   ]
  },
  {
   "cell_type": "markdown",
   "id": "sorted-hawaii",
   "metadata": {},
   "source": [
    "-----------"
   ]
  },
  {
   "cell_type": "markdown",
   "id": "democratic-lobby",
   "metadata": {},
   "source": [
    "### POST"
   ]
  },
  {
   "cell_type": "code",
   "execution_count": 71,
   "id": "harmful-action",
   "metadata": {},
   "outputs": [],
   "source": [
    "dic = {\n",
    "    \"character\":\"Dark Vader\",\n",
    "    \"text\":\"No, I am your father\"\n",
    "}"
   ]
  },
  {
   "cell_type": "code",
   "execution_count": 84,
   "id": "invisible-ferry",
   "metadata": {},
   "outputs": [
    {
     "data": {
      "text/plain": [
       "<Response [405]>"
      ]
     },
     "execution_count": 84,
     "metadata": {},
     "output_type": "execute_result"
    }
   ],
   "source": [
    "res = requests.get(\"http://127.0.0.1:5000/new_character\", params = dic)\n",
    "res"
   ]
  }
 ],
 "metadata": {
  "kernelspec": {
   "display_name": "Python 3",
   "language": "python",
   "name": "python3"
  },
  "language_info": {
   "codemirror_mode": {
    "name": "ipython",
    "version": 3
   },
   "file_extension": ".py",
   "mimetype": "text/x-python",
   "name": "python",
   "nbconvert_exporter": "python",
   "pygments_lexer": "ipython3",
   "version": "3.8.5"
  }
 },
 "nbformat": 4,
 "nbformat_minor": 5
}
